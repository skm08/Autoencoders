{
 "cells": [
  {
   "cell_type": "code",
   "execution_count": 1,
   "id": "a6deaae0",
   "metadata": {
    "execution": {
     "iopub.execute_input": "2023-10-05T05:09:32.346330Z",
     "iopub.status.busy": "2023-10-05T05:09:32.345964Z",
     "iopub.status.idle": "2023-10-05T05:09:33.110960Z",
     "shell.execute_reply": "2023-10-05T05:09:33.110001Z"
    },
    "papermill": {
     "duration": 0.772791,
     "end_time": "2023-10-05T05:09:33.113249",
     "exception": false,
     "start_time": "2023-10-05T05:09:32.340458",
     "status": "completed"
    },
    "tags": []
   },
   "outputs": [],
   "source": [
    "import pandas as pd\n",
    "import numpy as np\n",
    "import matplotlib.pyplot as plt"
   ]
  },
  {
   "cell_type": "code",
   "execution_count": 2,
   "id": "27562a73",
   "metadata": {
    "execution": {
     "iopub.execute_input": "2023-10-05T05:09:33.123173Z",
     "iopub.status.busy": "2023-10-05T05:09:33.122814Z",
     "iopub.status.idle": "2023-10-05T05:09:41.872386Z",
     "shell.execute_reply": "2023-10-05T05:09:41.871392Z"
    },
    "papermill": {
     "duration": 8.756837,
     "end_time": "2023-10-05T05:09:41.874599",
     "exception": false,
     "start_time": "2023-10-05T05:09:33.117762",
     "status": "completed"
    },
    "tags": []
   },
   "outputs": [
    {
     "name": "stderr",
     "output_type": "stream",
     "text": [
      "/opt/conda/lib/python3.10/site-packages/scipy/__init__.py:146: UserWarning: A NumPy version >=1.16.5 and <1.23.0 is required for this version of SciPy (detected version 1.23.5\n",
      "  warnings.warn(f\"A NumPy version >={np_minversion} and <{np_maxversion}\"\n"
     ]
    }
   ],
   "source": [
    "from tensorflow.keras.datasets import mnist"
   ]
  },
  {
   "cell_type": "code",
   "execution_count": 3,
   "id": "0b665c56",
   "metadata": {
    "execution": {
     "iopub.execute_input": "2023-10-05T05:09:41.883855Z",
     "iopub.status.busy": "2023-10-05T05:09:41.883302Z",
     "iopub.status.idle": "2023-10-05T05:09:42.308896Z",
     "shell.execute_reply": "2023-10-05T05:09:42.307896Z"
    },
    "papermill": {
     "duration": 0.432526,
     "end_time": "2023-10-05T05:09:42.311254",
     "exception": false,
     "start_time": "2023-10-05T05:09:41.878728",
     "status": "completed"
    },
    "tags": []
   },
   "outputs": [
    {
     "name": "stdout",
     "output_type": "stream",
     "text": [
      "Downloading data from https://storage.googleapis.com/tensorflow/tf-keras-datasets/mnist.npz\n",
      "11490434/11490434 [==============================] - 0s 0us/step\n"
     ]
    }
   ],
   "source": [
    "(X_train, y_train), (X_test, y_test) = mnist.load_data()"
   ]
  },
  {
   "cell_type": "code",
   "execution_count": 4,
   "id": "ad6f15a3",
   "metadata": {
    "execution": {
     "iopub.execute_input": "2023-10-05T05:09:42.321097Z",
     "iopub.status.busy": "2023-10-05T05:09:42.320820Z",
     "iopub.status.idle": "2023-10-05T05:09:42.599304Z",
     "shell.execute_reply": "2023-10-05T05:09:42.598338Z"
    },
    "papermill": {
     "duration": 0.285472,
     "end_time": "2023-10-05T05:09:42.601271",
     "exception": false,
     "start_time": "2023-10-05T05:09:42.315799",
     "status": "completed"
    },
    "tags": []
   },
   "outputs": [
    {
     "data": {
      "text/plain": [
       "<matplotlib.image.AxesImage at 0x78b4652c30d0>"
      ]
     },
     "execution_count": 4,
     "metadata": {},
     "output_type": "execute_result"
    },
    {
     "data": {
      "image/png": "[encoded data removed]",
      "text/plain": [
       "<Figure size 640x480 with 1 Axes>"
      ]
     },
     "metadata": {},
     "output_type": "display_data"
    }
   ],
   "source": [
    "plt.imshow(X_train[0])"
   ]
  },
  {
   "cell_type": "code",
   "execution_count": 5,
   "id": "abd5d276",
   "metadata": {
    "execution": {
     "iopub.execute_input": "2023-10-05T05:09:42.611876Z",
     "iopub.status.busy": "2023-10-05T05:09:42.611380Z",
     "iopub.status.idle": "2023-10-05T05:09:42.760454Z",
     "shell.execute_reply": "2023-10-05T05:09:42.759359Z"
    },
    "papermill": {
     "duration": 0.156727,
     "end_time": "2023-10-05T05:09:42.762719",
     "exception": false,
     "start_time": "2023-10-05T05:09:42.605992",
     "status": "completed"
    },
    "tags": []
   },
   "outputs": [],
   "source": [
    "X_train = X_train/255\n",
    "X_test = X_test/255"
   ]
  },
  {
   "cell_type": "code",
   "execution_count": 6,
   "id": "f5989486",
   "metadata": {
    "execution": {
     "iopub.execute_input": "2023-10-05T05:09:42.773521Z",
     "iopub.status.busy": "2023-10-05T05:09:42.773204Z",
     "iopub.status.idle": "2023-10-05T05:09:42.779695Z",
     "shell.execute_reply": "2023-10-05T05:09:42.778806Z"
    },
    "papermill": {
     "duration": 0.014373,
     "end_time": "2023-10-05T05:09:42.781967",
     "exception": false,
     "start_time": "2023-10-05T05:09:42.767594",
     "status": "completed"
    },
    "tags": []
   },
   "outputs": [],
   "source": [
    "from tensorflow.keras.models import Sequential\n",
    "from tensorflow.keras.layers import Dense,Flatten,Reshape\n",
    "from tensorflow.keras.optimizers import SGD"
   ]
  },
  {
   "cell_type": "code",
   "execution_count": 7,
   "id": "272f58f8",
   "metadata": {
    "execution": {
     "iopub.execute_input": "2023-10-05T05:09:42.792815Z",
     "iopub.status.busy": "2023-10-05T05:09:42.792092Z",
     "iopub.status.idle": "2023-10-05T05:09:47.756164Z",
     "shell.execute_reply": "2023-10-05T05:09:47.755245Z"
    },
    "papermill": {
     "duration": 4.971414,
     "end_time": "2023-10-05T05:09:47.758273",
     "exception": false,
     "start_time": "2023-10-05T05:09:42.786859",
     "status": "completed"
    },
    "tags": []
   },
   "outputs": [],
   "source": [
    "encoder = Sequential()\n",
    "encoder.add(Flatten(input_shape=[28,28]))\n",
    "encoder.add(Dense(400,activation=\"relu\"))\n",
    "encoder.add(Dense(200,activation=\"relu\"))\n",
    "encoder.add(Dense(100,activation=\"relu\"))\n",
    "encoder.add(Dense(50,activation=\"relu\"))\n",
    "encoder.add(Dense(25,activation=\"relu\"))"
   ]
  },
  {
   "cell_type": "code",
   "execution_count": 8,
   "id": "4764911e",
   "metadata": {
    "execution": {
     "iopub.execute_input": "2023-10-05T05:09:47.769123Z",
     "iopub.status.busy": "2023-10-05T05:09:47.768833Z",
     "iopub.status.idle": "2023-10-05T05:09:47.834033Z",
     "shell.execute_reply": "2023-10-05T05:09:47.833194Z"
    },
    "papermill": {
     "duration": 0.073114,
     "end_time": "2023-10-05T05:09:47.835907",
     "exception": false,
     "start_time": "2023-10-05T05:09:47.762793",
     "status": "completed"
    },
    "tags": []
   },
   "outputs": [],
   "source": [
    "decoder = Sequential()\n",
    "decoder.add(Dense(50,input_shape=[25],activation='relu'))\n",
    "decoder.add(Dense(100,activation='relu'))\n",
    "decoder.add(Dense(200,activation='relu'))\n",
    "decoder.add(Dense(400,activation='relu'))\n",
    "decoder.add(Dense(28 * 28, activation=\"sigmoid\"))\n",
    "decoder.add(Reshape([28, 28]))"
   ]
  },
  {
   "cell_type": "code",
   "execution_count": 9,
   "id": "222a8603",
   "metadata": {
    "execution": {
     "iopub.execute_input": "2023-10-05T05:09:47.845367Z",
     "iopub.status.busy": "2023-10-05T05:09:47.845108Z",
     "iopub.status.idle": "2023-10-05T05:09:47.904048Z",
     "shell.execute_reply": "2023-10-05T05:09:47.903111Z"
    },
    "papermill": {
     "duration": 0.065797,
     "end_time": "2023-10-05T05:09:47.905886",
     "exception": false,
     "start_time": "2023-10-05T05:09:47.840089",
     "status": "completed"
    },
    "tags": []
   },
   "outputs": [],
   "source": [
    "autoencoder = Sequential([encoder, decoder])\n",
    "autoencoder.compile(loss=\"binary_crossentropy\",optimizer=SGD(lr=1.5),metrics=['accuracy'])"
   ]
  },
  {
   "cell_type": "code",
   "execution_count": 10,
   "id": "e3ee3135",
   "metadata": {
    "execution": {
     "iopub.execute_input": "2023-10-05T05:09:47.916084Z",
     "iopub.status.busy": "2023-10-05T05:09:47.915723Z",
     "iopub.status.idle": "2023-10-05T05:11:11.765160Z",
     "shell.execute_reply": "2023-10-05T05:11:11.764207Z"
    },
    "papermill": {
     "duration": 83.893294,
     "end_time": "2023-10-05T05:11:11.803459",
     "exception": false,
     "start_time": "2023-10-05T05:09:47.910165",
     "status": "completed"
    },
    "tags": []
   },
   "outputs": [
    {
     "name": "stdout",
     "output_type": "stream",
     "text": [
      "Epoch 1/5\n",
      "1875/1875 [==============================] - 15s 5ms/step - loss: 0.6903 - accuracy: 0.0358 - val_loss: 0.6873 - val_accuracy: 0.0410\n",
      "Epoch 2/5\n",
      "1875/1875 [==============================] - 8s 4ms/step - loss: 0.6830 - accuracy: 0.0403 - val_loss: 0.6763 - val_accuracy: 0.0376\n",
      "Epoch 3/5\n",
      "1875/1875 [==============================] - 8s 4ms/step - loss: 0.5193 - accuracy: 0.0468 - val_loss: 0.2792 - val_accuracy: 0.0690\n",
      "Epoch 4/5\n",
      "1875/1875 [==============================] - 9s 5ms/step - loss: 0.2726 - accuracy: 0.0701 - val_loss: 0.2682 - val_accuracy: 0.0689\n",
      "Epoch 5/5\n",
      "1875/1875 [==============================] - 9s 5ms/step - loss: 0.2665 - accuracy: 0.0698 - val_loss: 0.2644 - val_accuracy: 0.0708\n"
     ]
    },
    {
     "data": {
      "text/plain": [
       "<keras.callbacks.History at 0x78b4649d6e30>"
      ]
     },
     "execution_count": 10,
     "metadata": {},
     "output_type": "execute_result"
    }
   ],
   "source": [
    "autoencoder.fit(X_train, X_train, epochs=5,validation_data=[X_test, X_test])"
   ]
  },
  {
   "cell_type": "code",
   "execution_count": 11,
   "id": "737ac15d",
   "metadata": {
    "execution": {
     "iopub.execute_input": "2023-10-05T05:11:11.921542Z",
     "iopub.status.busy": "2023-10-05T05:11:11.921231Z",
     "iopub.status.idle": "2023-10-05T05:11:12.094368Z",
     "shell.execute_reply": "2023-10-05T05:11:12.093709Z"
    },
    "papermill": {
     "duration": 0.255258,
     "end_time": "2023-10-05T05:11:12.096252",
     "exception": false,
     "start_time": "2023-10-05T05:11:11.840994",
     "status": "completed"
    },
    "tags": []
   },
   "outputs": [
    {
     "name": "stdout",
     "output_type": "stream",
     "text": [
      "1/1 [==============================] - 0s 129ms/step\n"
     ]
    }
   ],
   "source": [
    "passed_images = autoencoder.predict(X_test[:10])"
   ]
  },
  {
   "cell_type": "code",
   "execution_count": 12,
   "id": "200310ba",
   "metadata": {
    "execution": {
     "iopub.execute_input": "2023-10-05T05:11:12.181953Z",
     "iopub.status.busy": "2023-10-05T05:11:12.181642Z",
     "iopub.status.idle": "2023-10-05T05:11:12.638530Z",
     "shell.execute_reply": "2023-10-05T05:11:12.637586Z"
    },
    "papermill": {
     "duration": 0.499057,
     "end_time": "2023-10-05T05:11:12.640495",
     "exception": false,
     "start_time": "2023-10-05T05:11:12.141438",
     "status": "completed"
    },
    "tags": []
   },
   "outputs": [
    {
     "name": "stdout",
     "output_type": "stream",
     "text": [
      "Original image with 28 X 28 = 784 dimensions: \n"
     ]
    },
    {
     "data": {
      "image/png": "[encoded data removed]",
      "text/plain": [
       "<Figure size 640x480 with 1 Axes>"
      ]
     },
     "metadata": {},
     "output_type": "display_data"
    },
    {
     "name": "stdout",
     "output_type": "stream",
     "text": [
      "Reconstructed image 25 dimensions to 784 dimensions: \n"
     ]
    },
    {
     "data": {
      "text/plain": [
       "<matplotlib.image.AxesImage at 0x78b444319330>"
      ]
     },
     "execution_count": 12,
     "metadata": {},
     "output_type": "execute_result"
    },
    {
     "data": {
      "image/png": "[encoded data removed]",
      "text/plain": [
       "<Figure size 640x480 with 1 Axes>"
      ]
     },
     "metadata": {},
     "output_type": "display_data"
    }
   ],
   "source": [
    "n = 0\n",
    "\n",
    "print(\"Original image with 28 X 28 = 784 dimensions: \")\n",
    "plt.imshow(X_test[n])\n",
    "plt.show()\n",
    "print(\"Reconstructed image 25 dimensions to 784 dimensions: \")\n",
    "plt.imshow(passed_images[n])"
   ]
  },
  {
   "cell_type": "code",
   "execution_count": 13,
   "id": "2f13497c",
   "metadata": {
    "execution": {
     "iopub.execute_input": "2023-10-05T05:11:12.718586Z",
     "iopub.status.busy": "2023-10-05T05:11:12.717935Z",
     "iopub.status.idle": "2023-10-05T05:11:12.723208Z",
     "shell.execute_reply": "2023-10-05T05:11:12.722214Z"
    },
    "papermill": {
     "duration": 0.045843,
     "end_time": "2023-10-05T05:11:12.725247",
     "exception": false,
     "start_time": "2023-10-05T05:11:12.679404",
     "status": "completed"
    },
    "tags": []
   },
   "outputs": [],
   "source": [
    "from tensorflow.keras.layers import GaussianNoise"
   ]
  },
  {
   "cell_type": "code",
   "execution_count": 14,
   "id": "8743f368",
   "metadata": {
    "execution": {
     "iopub.execute_input": "2023-10-05T05:11:12.804864Z",
     "iopub.status.busy": "2023-10-05T05:11:12.804545Z",
     "iopub.status.idle": "2023-10-05T05:11:12.822080Z",
     "shell.execute_reply": "2023-10-05T05:11:12.820905Z"
    },
    "papermill": {
     "duration": 0.059382,
     "end_time": "2023-10-05T05:11:12.824099",
     "exception": false,
     "start_time": "2023-10-05T05:11:12.764717",
     "status": "completed"
    },
    "tags": []
   },
   "outputs": [],
   "source": [
    "sample=GaussianNoise(0.2)\n",
    "noisey=sample(X_test[:10],training=True)"
   ]
  },
  {
   "cell_type": "code",
   "execution_count": 15,
   "id": "68baa300",
   "metadata": {
    "execution": {
     "iopub.execute_input": "2023-10-05T05:11:12.904769Z",
     "iopub.status.busy": "2023-10-05T05:11:12.904454Z",
     "iopub.status.idle": "2023-10-05T05:11:13.383799Z",
     "shell.execute_reply": "2023-10-05T05:11:13.382941Z"
    },
    "papermill": {
     "duration": 0.521076,
     "end_time": "2023-10-05T05:11:13.385643",
     "exception": false,
     "start_time": "2023-10-05T05:11:12.864567",
     "status": "completed"
    },
    "tags": []
   },
   "outputs": [
    {
     "name": "stdout",
     "output_type": "stream",
     "text": [
      "Original image: \n"
     ]
    },
    {
     "data": {
      "image/png": "[encoded data removed]",
      "text/plain": [
       "<Figure size 640x480 with 1 Axes>"
      ]
     },
     "metadata": {},
     "output_type": "display_data"
    },
    {
     "name": "stdout",
     "output_type": "stream",
     "text": [
      "Noisy version : \n"
     ]
    },
    {
     "data": {
      "text/plain": [
       "<matplotlib.image.AxesImage at 0x78b4443a81f0>"
      ]
     },
     "execution_count": 15,
     "metadata": {},
     "output_type": "execute_result"
    },
    {
     "data": {
      "image/png": "[encoded data removed]",
      "text/plain": [
       "<Figure size 640x480 with 1 Axes>"
      ]
     },
     "metadata": {},
     "output_type": "display_data"
    }
   ],
   "source": [
    "n = 9\n",
    "\n",
    "print(\"Original image: \")\n",
    "plt.imshow(X_test[n])\n",
    "plt.show()\n",
    "print(\"Noisy version : \")\n",
    "plt.imshow(noisey[n])"
   ]
  },
  {
   "cell_type": "code",
   "execution_count": 16,
   "id": "ad639212",
   "metadata": {
    "execution": {
     "iopub.execute_input": "2023-10-05T05:11:13.461960Z",
     "iopub.status.busy": "2023-10-05T05:11:13.461680Z",
     "iopub.status.idle": "2023-10-05T05:11:13.551062Z",
     "shell.execute_reply": "2023-10-05T05:11:13.550130Z"
    },
    "papermill": {
     "duration": 0.129654,
     "end_time": "2023-10-05T05:11:13.552961",
     "exception": false,
     "start_time": "2023-10-05T05:11:13.423307",
     "status": "completed"
    },
    "tags": []
   },
   "outputs": [],
   "source": [
    "import tensorflow as tf\n",
    "\n",
    "tf.random.set_seed(101)\n",
    "np.random.seed(101)\n",
    "\n",
    "encoder = Sequential()\n",
    "encoder.add(Flatten(input_shape=[28,28]))\n",
    "\n",
    "encoder.add(GaussianNoise(0.2))\n",
    "\n",
    "encoder.add(Dense(400,activation=\"relu\"))\n",
    "encoder.add(Dense(200,activation=\"relu\"))\n",
    "encoder.add(Dense(100,activation=\"relu\"))\n",
    "encoder.add(Dense(50,activation=\"relu\"))\n",
    "encoder.add(Dense(25,activation=\"relu\"))"
   ]
  },
  {
   "cell_type": "code",
   "execution_count": 17,
   "id": "e7628e71",
   "metadata": {
    "execution": {
     "iopub.execute_input": "2023-10-05T05:11:13.630575Z",
     "iopub.status.busy": "2023-10-05T05:11:13.629738Z",
     "iopub.status.idle": "2023-10-05T05:11:13.695099Z",
     "shell.execute_reply": "2023-10-05T05:11:13.694280Z"
    },
    "papermill": {
     "duration": 0.106453,
     "end_time": "2023-10-05T05:11:13.696826",
     "exception": false,
     "start_time": "2023-10-05T05:11:13.590373",
     "status": "completed"
    },
    "tags": []
   },
   "outputs": [],
   "source": [
    "decoder = Sequential()\n",
    "decoder.add(Dense(50,input_shape=[25],activation='relu'))\n",
    "decoder.add(Dense(100,activation='relu'))\n",
    "decoder.add(Dense(200,activation='relu'))\n",
    "decoder.add(Dense(400,activation='relu'))\n",
    "decoder.add(Dense(28 * 28, activation=\"sigmoid\"))\n",
    "decoder.add(Reshape([28, 28]))"
   ]
  },
  {
   "cell_type": "code",
   "execution_count": 18,
   "id": "94a7d11e",
   "metadata": {
    "execution": {
     "iopub.execute_input": "2023-10-05T05:11:13.773879Z",
     "iopub.status.busy": "2023-10-05T05:11:13.773580Z",
     "iopub.status.idle": "2023-10-05T05:11:13.833934Z",
     "shell.execute_reply": "2023-10-05T05:11:13.833006Z"
    },
    "papermill": {
     "duration": 0.102205,
     "end_time": "2023-10-05T05:11:13.835786",
     "exception": false,
     "start_time": "2023-10-05T05:11:13.733581",
     "status": "completed"
    },
    "tags": []
   },
   "outputs": [],
   "source": [
    "noise_remover=Sequential([encoder,decoder])\n",
    "\n",
    "noise_remover.compile(loss='binary_crossentropy',\n",
    "                     optimizer='adam',\n",
    "                     metrics=['accuracy'])"
   ]
  },
  {
   "cell_type": "code",
   "execution_count": 19,
   "id": "45445da2",
   "metadata": {
    "execution": {
     "iopub.execute_input": "2023-10-05T05:11:13.911065Z",
     "iopub.status.busy": "2023-10-05T05:11:13.910468Z",
     "iopub.status.idle": "2023-10-05T05:12:28.307917Z",
     "shell.execute_reply": "2023-10-05T05:12:28.306905Z"
    },
    "papermill": {
     "duration": 74.437039,
     "end_time": "2023-10-05T05:12:28.309813",
     "exception": false,
     "start_time": "2023-10-05T05:11:13.872774",
     "status": "completed"
    },
    "tags": []
   },
   "outputs": [
    {
     "name": "stdout",
     "output_type": "stream",
     "text": [
      "Epoch 1/8\n",
      "1875/1875 [==============================] - 13s 5ms/step - loss: 0.1735 - accuracy: 0.1781\n",
      "Epoch 2/8\n",
      "1875/1875 [==============================] - 9s 5ms/step - loss: 0.1315 - accuracy: 0.2305\n",
      "Epoch 3/8\n",
      "1875/1875 [==============================] - 9s 5ms/step - loss: 0.1221 - accuracy: 0.2476\n",
      "Epoch 4/8\n",
      "1875/1875 [==============================] - 9s 5ms/step - loss: 0.1166 - accuracy: 0.2572\n",
      "Epoch 5/8\n",
      "1875/1875 [==============================] - 9s 5ms/step - loss: 0.1127 - accuracy: 0.2635\n",
      "Epoch 6/8\n",
      "1875/1875 [==============================] - 8s 4ms/step - loss: 0.1097 - accuracy: 0.2680\n",
      "Epoch 7/8\n",
      "1875/1875 [==============================] - 8s 4ms/step - loss: 0.1075 - accuracy: 0.2724\n",
      "Epoch 8/8\n",
      "1875/1875 [==============================] - 8s 4ms/step - loss: 0.1060 - accuracy: 0.2757\n"
     ]
    },
    {
     "data": {
      "text/plain": [
       "<keras.callbacks.History at 0x78b444379ab0>"
      ]
     },
     "execution_count": 19,
     "metadata": {},
     "output_type": "execute_result"
    }
   ],
   "source": [
    "noise_remover.fit(X_train,X_train,epochs=8)"
   ]
  },
  {
   "cell_type": "code",
   "execution_count": 20,
   "id": "a9f05063",
   "metadata": {
    "execution": {
     "iopub.execute_input": "2023-10-05T05:12:28.508096Z",
     "iopub.status.busy": "2023-10-05T05:12:28.507796Z",
     "iopub.status.idle": "2023-10-05T05:12:28.549218Z",
     "shell.execute_reply": "2023-10-05T05:12:28.548368Z"
    },
    "papermill": {
     "duration": 0.138772,
     "end_time": "2023-10-05T05:12:28.550999",
     "exception": false,
     "start_time": "2023-10-05T05:12:28.412227",
     "status": "completed"
    },
    "tags": []
   },
   "outputs": [],
   "source": [
    "ten_noisey_images=sample(X_test[:10],training=True)\n",
    "\n",
    "denoised=noise_remover(ten_noisey_images)"
   ]
  },
  {
   "cell_type": "code",
   "execution_count": 21,
   "id": "8e18e9ca",
   "metadata": {
    "execution": {
     "iopub.execute_input": "2023-10-05T05:12:28.739332Z",
     "iopub.status.busy": "2023-10-05T05:12:28.739010Z",
     "iopub.status.idle": "2023-10-05T05:12:29.365798Z",
     "shell.execute_reply": "2023-10-05T05:12:29.363337Z"
    },
    "papermill": {
     "duration": 0.722414,
     "end_time": "2023-10-05T05:12:29.367990",
     "exception": false,
     "start_time": "2023-10-05T05:12:28.645576",
     "status": "completed"
    },
    "tags": []
   },
   "outputs": [
    {
     "name": "stdout",
     "output_type": "stream",
     "text": [
      "Original:\n"
     ]
    },
    {
     "data": {
      "image/png": "[encoded data removed]",
      "text/plain": [
       "<Figure size 640x480 with 1 Axes>"
      ]
     },
     "metadata": {},
     "output_type": "display_data"
    },
    {
     "name": "stdout",
     "output_type": "stream",
     "text": [
      "Noise Added:\n"
     ]
    },
    {
     "data": {
      "image/png": "[encoded data removed]",
      "text/plain": [
       "<Figure size 640x480 with 1 Axes>"
      ]
     },
     "metadata": {},
     "output_type": "display_data"
    },
    {
     "name": "stdout",
     "output_type": "stream",
     "text": [
      "Noise reduction:\n"
     ]
    },
    {
     "data": {
      "image/png": "[encoded data removed]",
      "text/plain": [
       "<Figure size 640x480 with 1 Axes>"
      ]
     },
     "metadata": {},
     "output_type": "display_data"
    }
   ],
   "source": [
    "n=0\n",
    "\n",
    "print(\"Original:\")\n",
    "plt.imshow(X_test[n])\n",
    "plt.show()\n",
    "\n",
    "print(\"Noise Added:\")\n",
    "plt.imshow(ten_noisey_images[n])\n",
    "plt.show()\n",
    "\n",
    "print(\"Noise reduction:\")\n",
    "plt.imshow(denoised[n])\n",
    "plt.show()"
   ]
  },
  {
   "cell_type": "code",
   "execution_count": null,
   "id": "25c37083",
   "metadata": {
    "papermill": {
     "duration": 0.099304,
     "end_time": "2023-10-05T05:12:29.567369",
     "exception": false,
     "start_time": "2023-10-05T05:12:29.468065",
     "status": "completed"
    },
    "tags": []
   },
   "outputs": [],
   "source": []
  }
 ],
 "metadata": {
  "kernelspec": {
   "display_name": "Python 3",
   "language": "python",
   "name": "python3"
  },
  "language_info": {
   "codemirror_mode": {
    "name": "ipython",
    "version": 3
   },
   "file_extension": ".py",
   "mimetype": "text/x-python",
   "name": "python",
   "nbconvert_exporter": "python",
   "pygments_lexer": "ipython3",
   "version": "3.10.12"
  },
  "papermill": {
   "default_parameters": {},
   "duration": 183.595673,
   "end_time": "2023-10-05T05:12:32.798720",
   "environment_variables": {},
   "exception": null,
   "input_path": "__notebook__.ipynb",
   "output_path": "__notebook__.ipynb",
   "parameters": {},
   "start_time": "2023-10-05T05:09:29.203047",
   "version": "2.4.0"
  }
 },
 "nbformat": 4,
 "nbformat_minor": 5
}
